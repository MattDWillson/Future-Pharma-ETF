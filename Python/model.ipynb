{
 "cells": [
  {
   "cell_type": "code",
   "execution_count": 59,
   "source": [
    "import os\r\n",
    "from pathlib import Path\r\n",
    "import pandas as pd\r\n",
    "import numpy as np\r\n",
    "import datetime\r\n",
    "import time\r\n",
    "\r\n",
    "from collections import Counter\r\n",
    "\r\n",
    "from sklearn.model_selection import train_test_split\r\n",
    "from sklearn.base import clone\r\n",
    "\r\n",
    "from sklearn.linear_model import LinearRegression"
   ],
   "outputs": [],
   "metadata": {}
  },
  {
   "cell_type": "code",
   "execution_count": 60,
   "source": [
    "model_data_df = pd.read_csv(Path('../Data/model_data.csv'))"
   ],
   "outputs": [],
   "metadata": {}
  },
  {
   "cell_type": "code",
   "execution_count": 61,
   "source": [
    "azn_df = model_data_df.loc[model_data_df['symbol'].isin(['AZN'])]\r\n",
    "pfe_df = model_data_df.loc[model_data_df['symbol'].isin(['PFE'])]\r\n",
    "jnj_df = model_data_df.loc[model_data_df['symbol'].isin(['JNJ'])]\r\n",
    "mrna_df = model_data_df.loc[model_data_df['symbol'].isin(['MRNA'])]"
   ],
   "outputs": [],
   "metadata": {}
  },
  {
   "cell_type": "code",
   "execution_count": 62,
   "source": [
    "from sklearn.metrics import r2_score,mean_absolute_error\r\n",
    "\r\n",
    "def calc_scorecard(y_pred,y_true):\r\n",
    "    \r\n",
    "    def make_df(y_pred,y_true):\r\n",
    "        y_pred.name = 'y_pred'\r\n",
    "        y_true.name = 'y_true'\r\n",
    "\r\n",
    "        df = pd.concat([y_pred,y_true],axis=1).dropna()\r\n",
    "\r\n",
    "        df['sign_pred'] = df.y_pred.apply(np.sign)\r\n",
    "        df['sign_true'] = df.y_true.apply(np.sign)\r\n",
    "        df['is_correct'] = 0\r\n",
    "        df.loc[df.sign_pred * df.sign_true > 0 ,'is_correct'] = 1 # only registers 1 when prediction was made AND it was correct\r\n",
    "        df['is_incorrect'] = 0\r\n",
    "        df.loc[df.sign_pred * df.sign_true < 0,'is_incorrect'] = 1 # only registers 1 when prediction was made AND it was wrong\r\n",
    "        df['is_predicted'] = df.is_correct + df.is_incorrect\r\n",
    "        df['result'] = df.sign_pred * df.y_true \r\n",
    "        return df\r\n",
    "    \r\n",
    "    df = make_df(y_pred,y_true)\r\n",
    "    \r\n",
    "    scorecard = pd.Series()\r\n",
    "    scorecard.loc['RSQ'] = r2_score(df.y_true,df.y_pred)\r\n",
    "    scorecard.loc['MAE'] = mean_absolute_error(df.y_true,df.y_pred)\r\n",
    "    scorecard.loc['edge'] = df.result.mean()\r\n",
    "    scorecard.loc['noise'] = df.y_pred.diff().abs().mean()\r\n",
    "    scorecard.loc['edge_to_noise'] = scorecard.loc['edge'] / scorecard.loc['noise']\r\n",
    "    scorecard.loc['edge_to_mae'] = scorecard.loc['edge'] / scorecard.loc['MAE']\r\n",
    "    return scorecard  "
   ],
   "outputs": [],
   "metadata": {}
  },
  {
   "cell_type": "code",
   "execution_count": 63,
   "source": [
    "def run_model(df, algo):\r\n",
    "    df = df.drop(['date', 'symbol'], axis=1)\r\n",
    "\r\n",
    "    X = df.drop(columns=['close'])\r\n",
    "\r\n",
    "    y = df['close'].values\r\n",
    "\r\n",
    "    X_train, X_test, y_train, y_test = train_test_split(X, y, test_size=0.3, shuffle=False)\r\n",
    "\r\n",
    "    model = clone(algo)\r\n",
    "    model.fit(X_train, y_train)\r\n",
    "\r\n",
    "    y_pred = model.predict(X_test)\r\n",
    "\r\n",
    "    return calc_scorecard(pd.Series(y_pred), pd.Series(y))\r\n"
   ],
   "outputs": [],
   "metadata": {}
  },
  {
   "cell_type": "code",
   "execution_count": 64,
   "source": [
    "run_model(azn_df, LinearRegression())"
   ],
   "outputs": [
    {
     "output_type": "stream",
     "name": "stderr",
     "text": [
      "C:\\Users\\ayres\\miniconda3\\envs\\machineLearning\\lib\\site-packages\\ipykernel_launcher.py:23: DeprecationWarning: The default dtype for empty Series will be 'object' instead of 'float64' in a future version. Specify a dtype explicitly to silence this warning.\n"
     ]
    },
    {
     "output_type": "execute_result",
     "data": {
      "text/plain": [
       "RSQ             -0.315023\n",
       "MAE              0.575875\n",
       "edge             0.064612\n",
       "noise            0.247892\n",
       "edge_to_noise    0.260646\n",
       "edge_to_mae      0.112198\n",
       "dtype: float64"
      ]
     },
     "metadata": {},
     "execution_count": 64
    }
   ],
   "metadata": {}
  },
  {
   "cell_type": "code",
   "execution_count": null,
   "source": [],
   "outputs": [],
   "metadata": {}
  }
 ],
 "metadata": {
  "orig_nbformat": 4,
  "language_info": {
   "name": "python",
   "version": "3.7.11",
   "mimetype": "text/x-python",
   "codemirror_mode": {
    "name": "ipython",
    "version": 3
   },
   "pygments_lexer": "ipython3",
   "nbconvert_exporter": "python",
   "file_extension": ".py"
  },
  "kernelspec": {
   "name": "python3",
   "display_name": "Python 3.7.11 64-bit ('machineLearning': conda)"
  },
  "interpreter": {
   "hash": "15d6f6cf85598009a90599770be6a6b7799a460854b6a0a49d07b2b60db6e76d"
  }
 },
 "nbformat": 4,
 "nbformat_minor": 2
}