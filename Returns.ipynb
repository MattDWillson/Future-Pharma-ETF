{
 "cells": [
  {
   "cell_type": "code",
   "execution_count": 40,
   "id": "36666559-89ae-411e-997e-aeb8af243126",
   "metadata": {},
   "outputs": [],
   "source": [
    "import os\n",
    "import requests\n",
    "import pandas as pd\n",
    "import numpy as np\n",
    "from dotenv import load_dotenv\n",
    "import alpaca_trade_api as tradeapi\n",
    "from sklearn.linear_model import LinearRegression\n",
    "%matplotlib inline"
   ]
  },
  {
   "cell_type": "code",
   "execution_count": 41,
   "id": "e3a1b5a2-7b25-4e6a-816a-6565dc851577",
   "metadata": {},
   "outputs": [
    {
     "data": {
      "text/plain": [
       "True"
      ]
     },
     "execution_count": 41,
     "metadata": {},
     "output_type": "execute_result"
    }
   ],
   "source": [
    "# Load .env enviroment variables\n",
    "load_dotenv()"
   ]
  },
  {
   "cell_type": "code",
   "execution_count": 42,
   "id": "978475ff-3610-433b-9286-b68dd5b425f7",
   "metadata": {},
   "outputs": [],
   "source": [
    "# Set keys\n",
    "alpaca_api_key = os.getenv(\"ALPACA_API_KEY\")\n",
    "alpaca_secret_key = os.getenv(\"ALPACA_SECRET_KEY\")"
   ]
  },
  {
   "cell_type": "code",
   "execution_count": 43,
   "id": "764633f5-3abf-4c71-8c9c-b2e52549319d",
   "metadata": {},
   "outputs": [
    {
     "name": "stdout",
     "output_type": "stream",
     "text": [
      "Alpaca Key type: <class 'str'>\n",
      "Alpaca Secret Key type: <class 'str'>\n"
     ]
    }
   ],
   "source": [
    "# Check class of key\n",
    "print(f\"Alpaca Key type: {type(alpaca_api_key)}\")\n",
    "print(f\"Alpaca Secret Key type: {type(alpaca_secret_key)}\")\n",
    "\n",
    "# Create the Alpaca API object\n",
    "alpaca = tradeapi.REST(\n",
    "    alpaca_api_key,\n",
    "    alpaca_secret_key,\n",
    "    api_version=\"v2\")"
   ]
  },
  {
   "cell_type": "code",
   "execution_count": 44,
   "id": "25c8ad65-1840-4c3f-99c5-417c821614e3",
   "metadata": {},
   "outputs": [],
   "source": [
    "# Set time range\n",
    "start_date = pd.Timestamp('2021-08-12', tz='America/New_York').isoformat()\n",
    "end_date = pd.Timestamp('2021-09-15', tz='America/New_York').isoformat()"
   ]
  },
  {
   "cell_type": "code",
   "execution_count": 45,
   "id": "5ca1e3f1-436e-4dc4-970a-604c9ace82fe",
   "metadata": {},
   "outputs": [],
   "source": [
    "# Set Moderna ticker\n",
    "MRNA_ticker = [\"MRNA\"]\n",
    "               \n",
    "# Set timeframe\n",
    "timeframe = \"1D\""
   ]
  },
  {
   "cell_type": "code",
   "execution_count": 46,
   "id": "32c4abf9-4579-48b2-b1d0-baa6554ca892",
   "metadata": {},
   "outputs": [],
   "source": [
    "#Fetch Moderna closing Prices\n",
    "MRNA_closing_prices = alpaca.get_barset(\n",
    "    MRNA_ticker,\n",
    "    timeframe,\n",
    "    start = start_date,\n",
    "    end = end_date,\n",
    "    limit = 45\n",
    ").df\n",
    "\n",
    "# Create Moderna returns dataframe, remove close column, and drop nulls\n",
    "MRNA = MRNA_closing_prices[\"MRNA\"][\"close\"].to_frame()\n",
    "MRNA['MRNA_returns'] = MRNA.close.pct_change()\n",
    "MRNA.drop(columns=['close'], inplace=True)\n",
    "MRNA.dropna(inplace=True)"
   ]
  },
  {
   "cell_type": "code",
   "execution_count": 47,
   "id": "34ea61d3-c39e-4d67-b6f1-88f45de6d287",
   "metadata": {},
   "outputs": [
    {
     "data": {
      "text/html": [
       "<div>\n",
       "<style scoped>\n",
       "    .dataframe tbody tr th:only-of-type {\n",
       "        vertical-align: middle;\n",
       "    }\n",
       "\n",
       "    .dataframe tbody tr th {\n",
       "        vertical-align: top;\n",
       "    }\n",
       "\n",
       "    .dataframe thead th {\n",
       "        text-align: right;\n",
       "    }\n",
       "</style>\n",
       "<table border=\"1\" class=\"dataframe\">\n",
       "  <thead>\n",
       "    <tr style=\"text-align: right;\">\n",
       "      <th></th>\n",
       "      <th>MRNA_returns</th>\n",
       "      <th>MRNA_lagged_returns</th>\n",
       "    </tr>\n",
       "    <tr>\n",
       "      <th>time</th>\n",
       "      <th></th>\n",
       "      <th></th>\n",
       "    </tr>\n",
       "  </thead>\n",
       "  <tbody>\n",
       "    <tr>\n",
       "      <th>2021-08-16 00:00:00-04:00</th>\n",
       "      <td>-0.041184</td>\n",
       "      <td>-0.002926</td>\n",
       "    </tr>\n",
       "    <tr>\n",
       "      <th>2021-08-17 00:00:00-04:00</th>\n",
       "      <td>0.075067</td>\n",
       "      <td>-0.041184</td>\n",
       "    </tr>\n",
       "    <tr>\n",
       "      <th>2021-08-18 00:00:00-04:00</th>\n",
       "      <td>-0.007988</td>\n",
       "      <td>0.075067</td>\n",
       "    </tr>\n",
       "    <tr>\n",
       "      <th>2021-08-19 00:00:00-04:00</th>\n",
       "      <td>-0.058133</td>\n",
       "      <td>-0.007988</td>\n",
       "    </tr>\n",
       "    <tr>\n",
       "      <th>2021-08-20 00:00:00-04:00</th>\n",
       "      <td>0.019987</td>\n",
       "      <td>-0.058133</td>\n",
       "    </tr>\n",
       "  </tbody>\n",
       "</table>\n",
       "</div>"
      ],
      "text/plain": [
       "                           MRNA_returns  MRNA_lagged_returns\n",
       "time                                                        \n",
       "2021-08-16 00:00:00-04:00     -0.041184            -0.002926\n",
       "2021-08-17 00:00:00-04:00      0.075067            -0.041184\n",
       "2021-08-18 00:00:00-04:00     -0.007988             0.075067\n",
       "2021-08-19 00:00:00-04:00     -0.058133            -0.007988\n",
       "2021-08-20 00:00:00-04:00      0.019987            -0.058133"
      ]
     },
     "execution_count": 47,
     "metadata": {},
     "output_type": "execute_result"
    }
   ],
   "source": [
    "# Create Moderna lagged returns column\n",
    "MRNA[\"MRNA_lagged_returns\"]=MRNA.MRNA_returns.shift()\n",
    "MRNA.dropna(inplace=True)\n",
    "MRNA.head()"
   ]
  },
  {
   "cell_type": "code",
   "execution_count": 48,
   "id": "54c0332e-b57f-4b07-9deb-60ed81ff03e9",
   "metadata": {},
   "outputs": [
    {
     "data": {
      "text/plain": [
       "<matplotlib.axes._subplots.AxesSubplot at 0x1373a7f90>"
      ]
     },
     "execution_count": 48,
     "metadata": {},
     "output_type": "execute_result"
    },
    {
     "data": {
      "image/png": "[encoded data removed]",
      "text/plain": [
       "<Figure size 432x288 with 1 Axes>"
      ]
     },
     "metadata": {
      "needs_background": "light"
     },
     "output_type": "display_data"
    }
   ],
   "source": [
    "MRNA.plot()"
   ]
  },
  {
   "cell_type": "code",
   "execution_count": 49,
   "id": "5b10ffb3-de67-42f0-a238-9b3ccf2693bb",
   "metadata": {},
   "outputs": [],
   "source": [
    "# Set Astra Zeneca ticker\n",
    "AZN_ticker = [\"AZN\"]"
   ]
  },
  {
   "cell_type": "code",
   "execution_count": 50,
   "id": "104cd114-f0eb-49e2-b088-8f85efebd917",
   "metadata": {},
   "outputs": [],
   "source": [
    "# Fetch Astra Zeneca closing prices\n",
    "AZN_closing_prices = alpaca.get_barset(\n",
    "    AZN_ticker,\n",
    "    timeframe,\n",
    "    start = start_date,\n",
    "    end = end_date,\n",
    "    limit = 45\n",
    ").df\n",
    "\n",
    "# Create Astra Zeneca returns dataframe, remove close columnn, and drop nulls\n",
    "AZN = AZN_closing_prices[\"AZN\"][\"close\"].to_frame()\n",
    "AZN['AZN_returns'] = AZN.close.pct_change()\n",
    "AZN.drop(columns=['close'], inplace=True)\n",
    "AZN.dropna(inplace=True)"
   ]
  },
  {
   "cell_type": "code",
   "execution_count": 51,
   "id": "fd767d22-ac5a-4708-af05-4024f108a9e7",
   "metadata": {},
   "outputs": [
    {
     "data": {
      "text/html": [
       "<div>\n",
       "<style scoped>\n",
       "    .dataframe tbody tr th:only-of-type {\n",
       "        vertical-align: middle;\n",
       "    }\n",
       "\n",
       "    .dataframe tbody tr th {\n",
       "        vertical-align: top;\n",
       "    }\n",
       "\n",
       "    .dataframe thead th {\n",
       "        text-align: right;\n",
       "    }\n",
       "</style>\n",
       "<table border=\"1\" class=\"dataframe\">\n",
       "  <thead>\n",
       "    <tr style=\"text-align: right;\">\n",
       "      <th></th>\n",
       "      <th>AZN_returns</th>\n",
       "      <th>AZN_lagged_returns</th>\n",
       "    </tr>\n",
       "    <tr>\n",
       "      <th>time</th>\n",
       "      <th></th>\n",
       "      <th></th>\n",
       "    </tr>\n",
       "  </thead>\n",
       "  <tbody>\n",
       "    <tr>\n",
       "      <th>2021-08-16 00:00:00-04:00</th>\n",
       "      <td>0.004103</td>\n",
       "      <td>0.017745</td>\n",
       "    </tr>\n",
       "    <tr>\n",
       "      <th>2021-08-17 00:00:00-04:00</th>\n",
       "      <td>0.010385</td>\n",
       "      <td>0.004103</td>\n",
       "    </tr>\n",
       "    <tr>\n",
       "      <th>2021-08-18 00:00:00-04:00</th>\n",
       "      <td>0.001179</td>\n",
       "      <td>0.010385</td>\n",
       "    </tr>\n",
       "    <tr>\n",
       "      <th>2021-08-19 00:00:00-04:00</th>\n",
       "      <td>-0.003871</td>\n",
       "      <td>0.001179</td>\n",
       "    </tr>\n",
       "    <tr>\n",
       "      <th>2021-08-20 00:00:00-04:00</th>\n",
       "      <td>0.003548</td>\n",
       "      <td>-0.003871</td>\n",
       "    </tr>\n",
       "  </tbody>\n",
       "</table>\n",
       "</div>"
      ],
      "text/plain": [
       "                           AZN_returns  AZN_lagged_returns\n",
       "time                                                      \n",
       "2021-08-16 00:00:00-04:00     0.004103            0.017745\n",
       "2021-08-17 00:00:00-04:00     0.010385            0.004103\n",
       "2021-08-18 00:00:00-04:00     0.001179            0.010385\n",
       "2021-08-19 00:00:00-04:00    -0.003871            0.001179\n",
       "2021-08-20 00:00:00-04:00     0.003548           -0.003871"
      ]
     },
     "execution_count": 51,
     "metadata": {},
     "output_type": "execute_result"
    }
   ],
   "source": [
    "# Create Astra Zeneca lagged returns column\n",
    "AZN[\"AZN_lagged_returns\"]=AZN.AZN_returns.shift()\n",
    "AZN.dropna(inplace=True)\n",
    "AZN.head()"
   ]
  },
  {
   "cell_type": "code",
   "execution_count": 52,
   "id": "8f96ca80-d645-4aa0-8ece-04035d5addff",
   "metadata": {},
   "outputs": [],
   "source": [
    "# Set Pfizer ticker\n",
    "PFE_ticker = [\"PFE\"]"
   ]
  },
  {
   "cell_type": "code",
   "execution_count": 53,
   "id": "4871bff8-c6b0-4c3b-a924-29dde6d95372",
   "metadata": {},
   "outputs": [],
   "source": [
    "# Fetch Pfizer closing prices\n",
    "PFE_closing_prices = alpaca.get_barset(\n",
    "    PFE_ticker,\n",
    "    timeframe,\n",
    "    start = start_date,\n",
    "    end = end_date,\n",
    "    limit = 45\n",
    ").df\n",
    "\n",
    "# Create Pfizer returns dataframe, remove close column, and drop nulls\n",
    "PFE = PFE_closing_prices[\"PFE\"][\"close\"].to_frame()\n",
    "PFE['PFE_returns'] = PFE.close.pct_change()\n",
    "PFE.drop(columns=['close'], inplace=True)\n",
    "PFE.dropna(inplace=True)"
   ]
  },
  {
   "cell_type": "code",
   "execution_count": 54,
   "id": "094fd186-55ad-4d14-aece-eb8d4d2d76dd",
   "metadata": {},
   "outputs": [
    {
     "data": {
      "text/html": [
       "<div>\n",
       "<style scoped>\n",
       "    .dataframe tbody tr th:only-of-type {\n",
       "        vertical-align: middle;\n",
       "    }\n",
       "\n",
       "    .dataframe tbody tr th {\n",
       "        vertical-align: top;\n",
       "    }\n",
       "\n",
       "    .dataframe thead th {\n",
       "        text-align: right;\n",
       "    }\n",
       "</style>\n",
       "<table border=\"1\" class=\"dataframe\">\n",
       "  <thead>\n",
       "    <tr style=\"text-align: right;\">\n",
       "      <th></th>\n",
       "      <th>PFE_returns</th>\n",
       "      <th>PFE_lagged_returns</th>\n",
       "    </tr>\n",
       "    <tr>\n",
       "      <th>time</th>\n",
       "      <th></th>\n",
       "      <th></th>\n",
       "    </tr>\n",
       "  </thead>\n",
       "  <tbody>\n",
       "    <tr>\n",
       "      <th>2021-08-16 00:00:00-04:00</th>\n",
       "      <td>0.008941</td>\n",
       "      <td>0.026387</td>\n",
       "    </tr>\n",
       "    <tr>\n",
       "      <th>2021-08-17 00:00:00-04:00</th>\n",
       "      <td>0.030662</td>\n",
       "      <td>0.008941</td>\n",
       "    </tr>\n",
       "    <tr>\n",
       "      <th>2021-08-18 00:00:00-04:00</th>\n",
       "      <td>-0.022015</td>\n",
       "      <td>0.030662</td>\n",
       "    </tr>\n",
       "    <tr>\n",
       "      <th>2021-08-19 00:00:00-04:00</th>\n",
       "      <td>-0.010343</td>\n",
       "      <td>-0.022015</td>\n",
       "    </tr>\n",
       "    <tr>\n",
       "      <th>2021-08-20 00:00:00-04:00</th>\n",
       "      <td>-0.001639</td>\n",
       "      <td>-0.010343</td>\n",
       "    </tr>\n",
       "  </tbody>\n",
       "</table>\n",
       "</div>"
      ],
      "text/plain": [
       "                           PFE_returns  PFE_lagged_returns\n",
       "time                                                      \n",
       "2021-08-16 00:00:00-04:00     0.008941            0.026387\n",
       "2021-08-17 00:00:00-04:00     0.030662            0.008941\n",
       "2021-08-18 00:00:00-04:00    -0.022015            0.030662\n",
       "2021-08-19 00:00:00-04:00    -0.010343           -0.022015\n",
       "2021-08-20 00:00:00-04:00    -0.001639           -0.010343"
      ]
     },
     "execution_count": 54,
     "metadata": {},
     "output_type": "execute_result"
    }
   ],
   "source": [
    "# Create Pfizer lagged returns column\n",
    "PFE[\"PFE_lagged_returns\"]=PFE.PFE_returns.shift()\n",
    "PFE.dropna(inplace=True)\n",
    "PFE.head()"
   ]
  },
  {
   "cell_type": "code",
   "execution_count": 55,
   "id": "ba24907b-489c-4160-9b40-a29b384de0d9",
   "metadata": {},
   "outputs": [],
   "source": [
    "# Set J&J Ticker\n",
    "JNJ_ticker = [\"JNJ\"]"
   ]
  },
  {
   "cell_type": "code",
   "execution_count": 56,
   "id": "dd15b46b-24f3-4711-b207-a87c0542cd60",
   "metadata": {},
   "outputs": [],
   "source": [
    "# Fetch J&J closing prices\n",
    "JNJ_closing_prices = alpaca.get_barset(\n",
    "    JNJ_ticker,\n",
    "    timeframe,\n",
    "    start = start_date,\n",
    "    end = end_date,\n",
    "    limit = 45\n",
    ").df\n",
    "\n",
    "# Create J&J returns data frame, remove close column, drop nulls\n",
    "JNJ = JNJ_closing_prices[\"JNJ\"][\"close\"].to_frame()\n",
    "JNJ['JNJ_returns'] = JNJ.close.pct_change()\n",
    "JNJ.drop(columns=['close'], inplace=True)\n",
    "JNJ.dropna(inplace=True)"
   ]
  },
  {
   "cell_type": "code",
   "execution_count": 57,
   "id": "5804f32d-81fe-4fff-a617-9ebd7b70e5c2",
   "metadata": {},
   "outputs": [
    {
     "data": {
      "text/html": [
       "<div>\n",
       "<style scoped>\n",
       "    .dataframe tbody tr th:only-of-type {\n",
       "        vertical-align: middle;\n",
       "    }\n",
       "\n",
       "    .dataframe tbody tr th {\n",
       "        vertical-align: top;\n",
       "    }\n",
       "\n",
       "    .dataframe thead th {\n",
       "        text-align: right;\n",
       "    }\n",
       "</style>\n",
       "<table border=\"1\" class=\"dataframe\">\n",
       "  <thead>\n",
       "    <tr style=\"text-align: right;\">\n",
       "      <th></th>\n",
       "      <th>JNJ_returns</th>\n",
       "      <th>JNJ_lagged_returns</th>\n",
       "    </tr>\n",
       "    <tr>\n",
       "      <th>time</th>\n",
       "      <th></th>\n",
       "      <th></th>\n",
       "    </tr>\n",
       "  </thead>\n",
       "  <tbody>\n",
       "    <tr>\n",
       "      <th>2021-08-16 00:00:00-04:00</th>\n",
       "      <td>0.009306</td>\n",
       "      <td>0.005936</td>\n",
       "    </tr>\n",
       "    <tr>\n",
       "      <th>2021-08-17 00:00:00-04:00</th>\n",
       "      <td>0.009108</td>\n",
       "      <td>0.009306</td>\n",
       "    </tr>\n",
       "    <tr>\n",
       "      <th>2021-08-18 00:00:00-04:00</th>\n",
       "      <td>-0.012870</td>\n",
       "      <td>0.009108</td>\n",
       "    </tr>\n",
       "    <tr>\n",
       "      <th>2021-08-19 00:00:00-04:00</th>\n",
       "      <td>0.007845</td>\n",
       "      <td>-0.012870</td>\n",
       "    </tr>\n",
       "    <tr>\n",
       "      <th>2021-08-20 00:00:00-04:00</th>\n",
       "      <td>0.004816</td>\n",
       "      <td>0.007845</td>\n",
       "    </tr>\n",
       "  </tbody>\n",
       "</table>\n",
       "</div>"
      ],
      "text/plain": [
       "                           JNJ_returns  JNJ_lagged_returns\n",
       "time                                                      \n",
       "2021-08-16 00:00:00-04:00     0.009306            0.005936\n",
       "2021-08-17 00:00:00-04:00     0.009108            0.009306\n",
       "2021-08-18 00:00:00-04:00    -0.012870            0.009108\n",
       "2021-08-19 00:00:00-04:00     0.007845           -0.012870\n",
       "2021-08-20 00:00:00-04:00     0.004816            0.007845"
      ]
     },
     "execution_count": 57,
     "metadata": {},
     "output_type": "execute_result"
    }
   ],
   "source": [
    "# Create JNJ lagged returns column\n",
    "JNJ[\"JNJ_lagged_returns\"]=JNJ.JNJ_returns.shift()\n",
    "JNJ.dropna(inplace=True)\n",
    "JNJ.head()"
   ]
  },
  {
   "cell_type": "code",
   "execution_count": 58,
   "id": "23b1ddfb-d741-41f9-aeb3-13fc893d44c1",
   "metadata": {},
   "outputs": [
    {
     "data": {
      "text/html": [
       "<div>\n",
       "<style scoped>\n",
       "    .dataframe tbody tr th:only-of-type {\n",
       "        vertical-align: middle;\n",
       "    }\n",
       "\n",
       "    .dataframe tbody tr th {\n",
       "        vertical-align: top;\n",
       "    }\n",
       "\n",
       "    .dataframe thead th {\n",
       "        text-align: right;\n",
       "    }\n",
       "</style>\n",
       "<table border=\"1\" class=\"dataframe\">\n",
       "  <thead>\n",
       "    <tr style=\"text-align: right;\">\n",
       "      <th></th>\n",
       "      <th>MRNA_returns</th>\n",
       "      <th>MRNA_lagged_returns</th>\n",
       "      <th>AZN_returns</th>\n",
       "      <th>AZN_lagged_returns</th>\n",
       "      <th>PFE_returns</th>\n",
       "      <th>PFE_lagged_returns</th>\n",
       "      <th>JNJ_returns</th>\n",
       "      <th>JNJ_lagged_returns</th>\n",
       "    </tr>\n",
       "  </thead>\n",
       "  <tbody>\n",
       "    <tr>\n",
       "      <th>2021-08-16</th>\n",
       "      <td>-0.041184</td>\n",
       "      <td>-0.002926</td>\n",
       "      <td>0.004103</td>\n",
       "      <td>0.017745</td>\n",
       "      <td>0.008941</td>\n",
       "      <td>0.026387</td>\n",
       "      <td>0.009306</td>\n",
       "      <td>0.005936</td>\n",
       "    </tr>\n",
       "    <tr>\n",
       "      <th>2021-08-17</th>\n",
       "      <td>0.075067</td>\n",
       "      <td>-0.041184</td>\n",
       "      <td>0.010385</td>\n",
       "      <td>0.004103</td>\n",
       "      <td>0.030662</td>\n",
       "      <td>0.008941</td>\n",
       "      <td>0.009108</td>\n",
       "      <td>0.009306</td>\n",
       "    </tr>\n",
       "    <tr>\n",
       "      <th>2021-08-18</th>\n",
       "      <td>-0.007988</td>\n",
       "      <td>0.075067</td>\n",
       "      <td>0.001179</td>\n",
       "      <td>0.010385</td>\n",
       "      <td>-0.022015</td>\n",
       "      <td>0.030662</td>\n",
       "      <td>-0.012870</td>\n",
       "      <td>0.009108</td>\n",
       "    </tr>\n",
       "    <tr>\n",
       "      <th>2021-08-19</th>\n",
       "      <td>-0.058133</td>\n",
       "      <td>-0.007988</td>\n",
       "      <td>-0.003871</td>\n",
       "      <td>0.001179</td>\n",
       "      <td>-0.010343</td>\n",
       "      <td>-0.022015</td>\n",
       "      <td>0.007845</td>\n",
       "      <td>-0.012870</td>\n",
       "    </tr>\n",
       "    <tr>\n",
       "      <th>2021-08-20</th>\n",
       "      <td>0.019987</td>\n",
       "      <td>-0.058133</td>\n",
       "      <td>0.003548</td>\n",
       "      <td>-0.003871</td>\n",
       "      <td>-0.001639</td>\n",
       "      <td>-0.010343</td>\n",
       "      <td>0.004816</td>\n",
       "      <td>0.007845</td>\n",
       "    </tr>\n",
       "  </tbody>\n",
       "</table>\n",
       "</div>"
      ],
      "text/plain": [
       "            MRNA_returns  MRNA_lagged_returns  AZN_returns  \\\n",
       "2021-08-16     -0.041184            -0.002926     0.004103   \n",
       "2021-08-17      0.075067            -0.041184     0.010385   \n",
       "2021-08-18     -0.007988             0.075067     0.001179   \n",
       "2021-08-19     -0.058133            -0.007988    -0.003871   \n",
       "2021-08-20      0.019987            -0.058133     0.003548   \n",
       "\n",
       "            AZN_lagged_returns  PFE_returns  PFE_lagged_returns  JNJ_returns  \\\n",
       "2021-08-16            0.017745     0.008941            0.026387     0.009306   \n",
       "2021-08-17            0.004103     0.030662            0.008941     0.009108   \n",
       "2021-08-18            0.010385    -0.022015            0.030662    -0.012870   \n",
       "2021-08-19            0.001179    -0.010343           -0.022015     0.007845   \n",
       "2021-08-20           -0.003871    -0.001639           -0.010343     0.004816   \n",
       "\n",
       "            JNJ_lagged_returns  \n",
       "2021-08-16            0.005936  \n",
       "2021-08-17            0.009306  \n",
       "2021-08-18            0.009108  \n",
       "2021-08-19           -0.012870  \n",
       "2021-08-20            0.007845  "
      ]
     },
     "execution_count": 58,
     "metadata": {},
     "output_type": "execute_result"
    }
   ],
   "source": [
    "# Concatenate dataframes \n",
    "\n",
    "returns_df = pd.concat([MRNA, AZN, PFE, JNJ], axis='columns', join='inner')\n",
    "returns_df.index = returns_df.index.date\n",
    "returns_df.head()"
   ]
  },
  {
   "cell_type": "code",
   "execution_count": 72,
   "id": "e80e0501-0813-4565-80e6-cf61eaf7a6c7",
   "metadata": {},
   "outputs": [],
   "source": [
    "# Convert to datetime index\n",
    "\n",
    "returns_df.index = pd.to_datetime(returns_df.index)"
   ]
  },
  {
   "cell_type": "code",
   "execution_count": 73,
   "id": "98eb39a3-fb70-437a-9efd-0554e3f21cbb",
   "metadata": {},
   "outputs": [],
   "source": [
    "# Create a train/test split for the data\n",
    "train = returns_df.loc['2021-08-16':'2021-09-02']\n",
    "test = returns_df.loc['2021-09-03': '2021-09-15']"
   ]
  },
  {
   "cell_type": "code",
   "execution_count": 74,
   "id": "c026c5cf-c34b-4012-b09d-ef373fecc5cd",
   "metadata": {},
   "outputs": [],
   "source": [
    "# Create test and train sets for MRNA \n",
    "X_train_MRNA = train[\"MRNA_lagged_returns\"].to_frame()\n",
    "X_test_MRNA = test[\"MRNA_lagged_returns\"].to_frame()\n",
    "y_train_MRNA = train[\"MRNA_returns\"].to_frame()\n",
    "y_test_MRNA = test[\"MRNA_returns\"].to_frame()"
   ]
  },
  {
   "cell_type": "code",
   "execution_count": 75,
   "id": "9d22d3fb-6b9f-4908-8d44-82303b31a104",
   "metadata": {},
   "outputs": [
    {
     "data": {
      "text/plain": [
       "LinearRegression()"
      ]
     },
     "execution_count": 75,
     "metadata": {},
     "output_type": "execute_result"
    }
   ],
   "source": [
    "# Create a Linear Regression model and fit it to the training data\n",
    "from sklearn.linear_model import LinearRegression\n",
    "\n",
    "# Fit a SKLearn linear regression using just the training set (X_train, Y_train):\n",
    "model_MRNA = LinearRegression()\n",
    "model_MRNA.fit(X_train_MRNA, y_train_MRNA)"
   ]
  },
  {
   "cell_type": "code",
   "execution_count": 81,
   "id": "1e9b6814-7796-4441-916c-4241ffb03625",
   "metadata": {},
   "outputs": [],
   "source": [
    "# Make a prediction of \"y\" values using just the test dataset\n",
    "predictions_MRNA = model.predict(X_test_MRNA)"
   ]
  },
  {
   "cell_type": "code",
   "execution_count": 82,
   "id": "754e3ce7-4319-4091-865d-562848ae9ea3",
   "metadata": {},
   "outputs": [],
   "source": [
    "# Assemble actual y data (Y_test) with predicted y data (from just above) into two columns in a dataframe:\n",
    "results_MRNA = y_test_MRNA\n",
    "results_MRNA[\"Predicted Return\"] = predictions_MRNA"
   ]
  },
  {
   "cell_type": "code",
   "execution_count": 83,
   "id": "94791163-4106-4f3c-b16f-cf4276e2d9c8",
   "metadata": {},
   "outputs": [
    {
     "data": {
      "text/plain": [
       "array([<matplotlib.axes._subplots.AxesSubplot object at 0x1377ab8d0>,\n",
       "       <matplotlib.axes._subplots.AxesSubplot object at 0x1377ca750>],\n",
       "      dtype=object)"
      ]
     },
     "execution_count": 83,
     "metadata": {},
     "output_type": "execute_result"
    },
    {
     "data": {
      "image/png": "[encoded data removed]",
      "text/plain": [
       "<Figure size 432x288 with 2 Axes>"
      ]
     },
     "metadata": {
      "needs_background": "light"
     },
     "output_type": "display_data"
    }
   ],
   "source": [
    "# Plot the first 5 predictions vs the true values\n",
    "results_MRNA[:10].plot(subplots=True)"
   ]
  },
  {
   "cell_type": "code",
   "execution_count": 84,
   "id": "7701c7b7-eec5-421a-9c2d-e472543c6d08",
   "metadata": {},
   "outputs": [
    {
     "name": "stdout",
     "output_type": "stream",
     "text": [
      "Out-of-Sample Root Mean Squared Error (RMSE): 0.044696801602859895\n"
     ]
    }
   ],
   "source": [
    "# Import MSE from sklearn\n",
    "from sklearn.metrics import mean_squared_error\n",
    "\n",
    "# Calculate the mean_squared_error (MSE) on actual versus predicted test \"y\" \n",
    "mse_MRNA = mean_squared_error(\n",
    "    results_MRNA[\"MRNA_returns\"],\n",
    "    results_MRNA[\"Predicted Return\"]\n",
    ")\n",
    "\n",
    "# Using that mean-squared-error, calculate the root-mean-squared error (RMSE):\n",
    "out_of_sample_rmse_MRNA = np.sqrt(mse_MRNA)\n",
    "print(f\"Out-of-Sample Root Mean Squared Error (RMSE): {out_of_sample_rmse_MRNA}\")"
   ]
  },
  {
   "cell_type": "code",
   "execution_count": 86,
   "id": "2e8fc8aa-d209-44d2-b8f9-1ba273197c7d",
   "metadata": {},
   "outputs": [
    {
     "name": "stdout",
     "output_type": "stream",
     "text": [
      "In-sample Root Mean Squared Error (RMSE): 0.04025869307796913\n"
     ]
    }
   ],
   "source": [
    "# Construct a dataframe using just the \"y\" training data:\n",
    "in_sample_results_MRNA = y_train_MRNA\n",
    "\n",
    "# Add a column of \"in-sample\" predictions to that dataframe:  \n",
    "in_sample_results_MRNA[\"In-sample Predictions\"] = model_MRNA.predict(X_train_MRNA)\n",
    "\n",
    "# Calculate in-sample mean_squared_error (for comparison to out-of-sample)\n",
    "in_sample_mse_MRNA = mean_squared_error(\n",
    "    in_sample_results_MRNA[\"MRNA_returns\"],\n",
    "    in_sample_results_MRNA[\"In-sample Predictions\"]\n",
    ")\n",
    "\n",
    "# Calculate in-sample root mean_squared_error (for comparison to out-of-sample)\n",
    "in_sample_rmse_MRNA = np.sqrt(in_sample_mse_MRNA)\n",
    "print(f\"In-sample Root Mean Squared Error (RMSE): {in_sample_rmse_MRNA}\")"
   ]
  },
  {
   "cell_type": "code",
   "execution_count": 87,
   "id": "98f7b33b-26a8-4a95-9961-b863f548d03a",
   "metadata": {},
   "outputs": [],
   "source": [
    "# Create test and train sets for AZN \n",
    "X_train_AZN = train[\"AZN_lagged_returns\"].to_frame()\n",
    "X_test_AZN = test[\"AZN_lagged_returns\"].to_frame()\n",
    "y_train_AZN = train[\"AZN_returns\"].to_frame()\n",
    "y_test_AZN = test[\"AZN_returns\"].to_frame()"
   ]
  },
  {
   "cell_type": "code",
   "execution_count": 88,
   "id": "cc186c8d-1acf-4384-8ba6-c12ffb094bbd",
   "metadata": {},
   "outputs": [
    {
     "data": {
      "text/plain": [
       "LinearRegression()"
      ]
     },
     "execution_count": 88,
     "metadata": {},
     "output_type": "execute_result"
    }
   ],
   "source": [
    "# Fit a SKLearn linear regression using just the training set (X_train, Y_train):\n",
    "model_AZN = LinearRegression()\n",
    "model_AZN.fit(X_train_AZN, y_train_AZN)"
   ]
  },
  {
   "cell_type": "code",
   "execution_count": 89,
   "id": "568e25ab-5a94-4fea-973c-7280d6560fa7",
   "metadata": {},
   "outputs": [],
   "source": [
    "# Make a prediction of \"y\" values using just the test dataset\n",
    "predictions_AZN = model_AZN.predict(X_test_AZN)"
   ]
  },
  {
   "cell_type": "code",
   "execution_count": 90,
   "id": "34c7eebe-155a-407f-a863-c26c373dfb0b",
   "metadata": {},
   "outputs": [],
   "source": [
    "# Assemble actual y data (Y_test) with predicted y data (from just above) into two columns in a dataframe:\n",
    "results_AZN = y_test_AZN\n",
    "results_AZN[\"Predicted Return\"] = predictions_AZN"
   ]
  },
  {
   "cell_type": "code",
   "execution_count": 91,
   "id": "76bfa6e7-49fb-4717-9eb0-6b47d8ff6f1c",
   "metadata": {},
   "outputs": [
    {
     "data": {
      "text/plain": [
       "array([<matplotlib.axes._subplots.AxesSubplot object at 0x137909d90>,\n",
       "       <matplotlib.axes._subplots.AxesSubplot object at 0x137874c50>],\n",
       "      dtype=object)"
      ]
     },
     "execution_count": 91,
     "metadata": {},
     "output_type": "execute_result"
    },
    {
     "data": {
      "image/png": "[encoded data removed]",
      "text/plain": [
       "<Figure size 432x288 with 2 Axes>"
      ]
     },
     "metadata": {
      "needs_background": "light"
     },
     "output_type": "display_data"
    }
   ],
   "source": [
    "# Plot the first 5 predictions vs the true values\n",
    "results_AZN[:10].plot(subplots=True)"
   ]
  },
  {
   "cell_type": "code",
   "execution_count": 92,
   "id": "74fb950d-44e5-4af8-8fad-3c7e8d10dc59",
   "metadata": {},
   "outputs": [
    {
     "name": "stdout",
     "output_type": "stream",
     "text": [
      "Out-of-Sample Root Mean Squared Error (RMSE): 0.011240067424661325\n"
     ]
    }
   ],
   "source": [
    "# Import MSE from sklearn\n",
    "from sklearn.metrics import mean_squared_error\n",
    "\n",
    "# Calculate the mean_squared_error (MSE) on actual versus predicted test \"y\" \n",
    "mse_AZN = mean_squared_error(\n",
    "    results_AZN[\"AZN_returns\"],\n",
    "    results_AZN[\"Predicted Return\"]\n",
    ")\n",
    "\n",
    "# Using that mean-squared-error, calculate the root-mean-squared error (RMSE):\n",
    "\n",
    "out_of_sample_rmse_AZN = np.sqrt(mse_AZN)\n",
    "print(f\"Out-of-Sample Root Mean Squared Error (RMSE): {out_of_sample_rmse_AZN}\")"
   ]
  },
  {
   "cell_type": "code",
   "execution_count": 93,
   "id": "39b65a6f-edc7-4f9b-ae89-db3e9aa9fb4b",
   "metadata": {},
   "outputs": [
    {
     "name": "stdout",
     "output_type": "stream",
     "text": [
      "In-sample Root Mean Squared Error (RMSE): 0.0062048681766547886\n"
     ]
    }
   ],
   "source": [
    "# Construct a dataframe using just the \"y\" training data:\n",
    "in_sample_results_AZN = y_train_AZN\n",
    "\n",
    "# Add a column of \"in-sample\" predictions to that dataframe:  \n",
    "in_sample_results_AZN[\"In-sample Predictions\"] = model_AZN.predict(X_train_AZN)\n",
    "\n",
    "# Calculate in-sample mean_squared_error (for comparison to out-of-sample)\n",
    "in_sample_mse_AZN = mean_squared_error(\n",
    "    in_sample_results_AZN[\"AZN_returns\"],\n",
    "    in_sample_results_AZN[\"In-sample Predictions\"]\n",
    ")\n",
    "\n",
    "\n",
    "# Calculate in-sample root mean_squared_error (for comparison to out-of-sample)\n",
    "in_sample_rmse_AZN = np.sqrt(in_sample_mse_AZN)\n",
    "print(f\"In-sample Root Mean Squared Error (RMSE): {in_sample_rmse_AZN}\")"
   ]
  },
  {
   "cell_type": "code",
   "execution_count": 94,
   "id": "9033b07d-face-4b2f-8803-6a7febedf7c4",
   "metadata": {},
   "outputs": [],
   "source": [
    "# Create test and train sets for AZN \n",
    "X_train_PFE = train[\"PFE_lagged_returns\"].to_frame()\n",
    "X_test_PFE = test[\"PFE_lagged_returns\"].to_frame()\n",
    "y_train_PFE = train[\"PFE_returns\"].to_frame()\n",
    "y_test_PFE = test[\"PFE_returns\"].to_frame()"
   ]
  },
  {
   "cell_type": "code",
   "execution_count": 95,
   "id": "4acc904e-2efd-4869-8991-d56f95531a05",
   "metadata": {},
   "outputs": [
    {
     "data": {
      "text/plain": [
       "LinearRegression()"
      ]
     },
     "execution_count": 95,
     "metadata": {},
     "output_type": "execute_result"
    }
   ],
   "source": [
    "# Fit a SKLearn linear regression using just the training set (X_train, Y_train):\n",
    "model_PFE = LinearRegression()\n",
    "model_PFE.fit(X_train_PFE, y_train_PFE)"
   ]
  },
  {
   "cell_type": "code",
   "execution_count": 96,
   "id": "c4eeb9d3-cb2e-4b2e-af45-c0c978d2d3ea",
   "metadata": {},
   "outputs": [],
   "source": [
    "# Make a prediction of \"y\" values using just the test dataset\n",
    "predictions_PFE = model_PFE.predict(X_test_PFE)"
   ]
  },
  {
   "cell_type": "code",
   "execution_count": 97,
   "id": "220945e3-4831-41b5-9a4b-8d4e6b107f8d",
   "metadata": {},
   "outputs": [],
   "source": [
    "# Assemble actual y data (Y_test) with predicted y data (from just above) into two columns in a dataframe:\n",
    "results_PFE = y_test_PFE\n",
    "results_PFE[\"Predicted Return\"] = predictions_PFE"
   ]
  },
  {
   "cell_type": "code",
   "execution_count": 98,
   "id": "960cd974-1e3e-4b3b-bcc6-a790ca84463f",
   "metadata": {},
   "outputs": [
    {
     "data": {
      "text/plain": [
       "array([<matplotlib.axes._subplots.AxesSubplot object at 0x137ac0510>,\n",
       "       <matplotlib.axes._subplots.AxesSubplot object at 0x1372f4c90>],\n",
       "      dtype=object)"
      ]
     },
     "execution_count": 98,
     "metadata": {},
     "output_type": "execute_result"
    },
    {
     "data": {
      "image/png": "[encoded data removed]",
      "text/plain": [
       "<Figure size 432x288 with 2 Axes>"
      ]
     },
     "metadata": {
      "needs_background": "light"
     },
     "output_type": "display_data"
    }
   ],
   "source": [
    "# Plot the first 5 predictions vs the true values\n",
    "results_PFE[:10].plot(subplots=True)"
   ]
  },
  {
   "cell_type": "code",
   "execution_count": 99,
   "id": "f881fd79-d93b-4c37-8898-563eacc00aba",
   "metadata": {},
   "outputs": [
    {
     "name": "stdout",
     "output_type": "stream",
     "text": [
      "Out-of-Sample Root Mean Squared Error (RMSE): 0.008609981302864425\n"
     ]
    }
   ],
   "source": [
    "# Import MSE from sklearn\n",
    "from sklearn.metrics import mean_squared_error\n",
    "\n",
    "# Calculate the mean_squared_error (MSE) on actual versus predicted test \"y\" \n",
    "mse_PFE = mean_squared_error(\n",
    "    results_PFE[\"PFE_returns\"],\n",
    "    results_PFE[\"Predicted Return\"]\n",
    ")\n",
    "\n",
    "# Using that mean-squared-error, calculate the root-mean-squared error (RMSE):\n",
    "\n",
    "out_of_sample_rmse_PFE = np.sqrt(mse_PFE)\n",
    "print(f\"Out-of-Sample Root Mean Squared Error (RMSE): {out_of_sample_rmse_PFE}\")"
   ]
  },
  {
   "cell_type": "code",
   "execution_count": 100,
   "id": "d923578c-4173-4587-bc43-38fd4688cdb3",
   "metadata": {},
   "outputs": [
    {
     "name": "stdout",
     "output_type": "stream",
     "text": [
      "In-sample Root Mean Squared Error (RMSE): 0.01740803179584292\n"
     ]
    }
   ],
   "source": [
    "# Construct a dataframe using just the \"y\" training data:\n",
    "in_sample_results_PFE = y_train_PFE\n",
    "\n",
    "# Add a column of \"in-sample\" predictions to that dataframe:  \n",
    "in_sample_results_PFE[\"In-sample Predictions\"] = model_PFE.predict(X_train_PFE)\n",
    "\n",
    "# Calculate in-sample mean_squared_error (for comparison to out-of-sample)\n",
    "in_sample_mse_PFE = mean_squared_error(\n",
    "    in_sample_results_PFE[\"PFE_returns\"],\n",
    "    in_sample_results_PFE[\"In-sample Predictions\"]\n",
    ")\n",
    "\n",
    "\n",
    "# Calculate in-sample root mean_squared_error (for comparison to out-of-sample)\n",
    "in_sample_rmse_PFE = np.sqrt(in_sample_mse_PFE)\n",
    "print(f\"In-sample Root Mean Squared Error (RMSE): {in_sample_rmse_PFE}\")"
   ]
  },
  {
   "cell_type": "code",
   "execution_count": 101,
   "id": "45e97194-3ebf-4890-9b3f-693a263fa3d6",
   "metadata": {},
   "outputs": [],
   "source": [
    "# Create test and train sets for JNJ \n",
    "X_train_JNJ = train[\"JNJ_lagged_returns\"].to_frame()\n",
    "X_test_JNJ = test[\"JNJ_lagged_returns\"].to_frame()\n",
    "y_train_JNJ = train[\"JNJ_returns\"].to_frame()\n",
    "y_test_JNJ = test[\"JNJ_returns\"].to_frame()"
   ]
  },
  {
   "cell_type": "code",
   "execution_count": 102,
   "id": "80a16ce1-805d-4ec7-9e6f-c1d909a705e0",
   "metadata": {},
   "outputs": [
    {
     "data": {
      "text/plain": [
       "LinearRegression()"
      ]
     },
     "execution_count": 102,
     "metadata": {},
     "output_type": "execute_result"
    }
   ],
   "source": [
    "# Fit a SKLearn linear regression using just the training set (X_train, Y_train):\n",
    "model_JNJ = LinearRegression()\n",
    "model_JNJ.fit(X_train_PFE, y_train_JNJ)"
   ]
  },
  {
   "cell_type": "code",
   "execution_count": 103,
   "id": "054440e6-fd26-457d-9295-28105f04bb64",
   "metadata": {},
   "outputs": [],
   "source": [
    "# Make a prediction of \"y\" values using just the test dataset\n",
    "predictions_JNJ = model_JNJ.predict(X_test_JNJ)"
   ]
  },
  {
   "cell_type": "code",
   "execution_count": 104,
   "id": "a0050185-cfcb-4755-accd-32a6b7686217",
   "metadata": {},
   "outputs": [],
   "source": [
    "# Assemble actual y data (Y_test) with predicted y data (from just above) into two columns in a dataframe:\n",
    "results_JNJ = y_test_JNJ\n",
    "results_JNJ[\"Predicted Return\"] = predictions_JNJ"
   ]
  },
  {
   "cell_type": "code",
   "execution_count": 105,
   "id": "79080946-85a4-445f-8dcb-99b67a9411ca",
   "metadata": {},
   "outputs": [
    {
     "data": {
      "text/plain": [
       "array([<matplotlib.axes._subplots.AxesSubplot object at 0x137c32d50>,\n",
       "       <matplotlib.axes._subplots.AxesSubplot object at 0x137ba4b50>],\n",
       "      dtype=object)"
      ]
     },
     "execution_count": 105,
     "metadata": {},
     "output_type": "execute_result"
    },
    {
     "data": {
      "image/png": "[encoded data removed]",
      "text/plain": [
       "<Figure size 432x288 with 2 Axes>"
      ]
     },
     "metadata": {
      "needs_background": "light"
     },
     "output_type": "display_data"
    }
   ],
   "source": [
    "# Plot the first 5 predictions vs the true values\n",
    "results_JNJ[:10].plot(subplots=True)"
   ]
  },
  {
   "cell_type": "code",
   "execution_count": 110,
   "id": "9481cb4b-47b8-4bab-b9cd-3c46e6f7e15e",
   "metadata": {},
   "outputs": [
    {
     "name": "stdout",
     "output_type": "stream",
     "text": [
      "Out-of-Sample Root Mean Squared Error (RMSE): 0.010492745804604468\n"
     ]
    }
   ],
   "source": [
    "# Import MSE from sklearn\n",
    "from sklearn.metrics import mean_squared_error\n",
    "\n",
    "# Calculate the mean_squared_error (MSE) on actual versus predicted test \"y\" \n",
    "mse_JNJ = mean_squared_error(\n",
    "    results_JNJ[\"JNJ_returns\"],\n",
    "    results_JNJ[\"Predicted Return\"]\n",
    ")\n",
    "\n",
    "# Using that mean-squared-error, calculate the root-mean-squared error (RMSE):\n",
    "out_of_sample_rmse_JNJ = np.sqrt(mse_JNJ)\n",
    "print(f\"Out-of-Sample Root Mean Squared Error (RMSE): {out_of_sample_rmse_JNJ}\")"
   ]
  },
  {
   "cell_type": "code",
   "execution_count": 111,
   "id": "3c75f097-d611-425c-ae96-fbc69a24d2bc",
   "metadata": {},
   "outputs": [
    {
     "name": "stdout",
     "output_type": "stream",
     "text": [
      "In-sample Root Mean Squared Error (RMSE): 0.007912528863650023\n"
     ]
    }
   ],
   "source": [
    "# Construct a dataframe using just the \"y\" training data:\n",
    "in_sample_results_JNJ = y_train_JNJ\n",
    "\n",
    "# Add a column of \"in-sample\" predictions to that dataframe:  \n",
    "in_sample_results_JNJ[\"In-sample Predictions\"] = model_JNJ.predict(X_train_JNJ)\n",
    "\n",
    "# Calculate in-sample mean_squared_error (for comparison to out-of-sample)\n",
    "in_sample_mse_JNJ = mean_squared_error(\n",
    "    in_sample_results_JNJ[\"JNJ_returns\"],\n",
    "    in_sample_results_JNJ[\"In-sample Predictions\"]\n",
    ")\n",
    "\n",
    "\n",
    "# Calculate in-sample root mean_squared_error (for comparison to out-of-sample)\n",
    "in_sample_rmse_JNJ = np.sqrt(in_sample_mse_JNJ)\n",
    "print(f\"In-sample Root Mean Squared Error (RMSE): {in_sample_rmse_JNJ}\")"
   ]
  },
  {
   "cell_type": "code",
   "execution_count": null,
   "id": "587a90d2-a043-45a3-802c-56d5347638f2",
   "metadata": {},
   "outputs": [],
   "source": []
  }
 ],
 "metadata": {
  "kernelspec": {
   "display_name": "Python [conda env:pyvizenv] *",
   "language": "python",
   "name": "conda-env-pyvizenv-py"
  },
  "language_info": {
   "codemirror_mode": {
    "name": "ipython",
    "version": 3
   },
   "file_extension": ".py",
   "mimetype": "text/x-python",
   "name": "python",
   "nbconvert_exporter": "python",
   "pygments_lexer": "ipython3",
   "version": "3.7.10"
  }
 },
 "nbformat": 4,
 "nbformat_minor": 5
}
