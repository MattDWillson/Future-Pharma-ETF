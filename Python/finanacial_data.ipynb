{
 "cells": [
  {
   "cell_type": "code",
   "execution_count": 56,
   "source": [
    "import pandas as pd\r\n",
    "import numpy as np\r\n",
    "import requests\r\n",
    "import os\r\n",
    "import hvplot.pandas\r\n",
    "from dotenv import load_dotenv\r\n",
    "from pathlib import Path\r\n",
    "from time import sleep\r\n",
    "\r\n",
    "from scipy.cluster import hierarchy\r\n",
    "from scipy.spatial import distance\r\n",
    "\r\n",
    "from sklearn.preprocessing import StandardScaler, Normalizer\r\n",
    "\r\n",
    "import matplotlib.pyplot as plt\r\n",
    "import seaborn as sns\r\n",
    "%matplotlib inline\r\n",
    "\r\n",
    "load_dotenv()"
   ],
   "outputs": [
    {
     "output_type": "execute_result",
     "data": {
      "text/plain": [
       "True"
      ]
     },
     "metadata": {},
     "execution_count": 56
    }
   ],
   "metadata": {}
  },
  {
   "cell_type": "markdown",
   "source": [
    "# Using polygon API get past year historical prices\r\n",
    "\r\n",
    "* Loop through list of chosen stock symbols\r\n",
    "* build dataframe for each ticker and append to master list"
   ],
   "metadata": {}
  },
  {
   "cell_type": "code",
   "execution_count": 64,
   "source": [
    "def get_symbols(symbols, begin_date=None, end_date=None):\r\n",
    "    out = pd.DataFrame()\r\n",
    "    BASE_URL = 'https://api.polygon.io'\r\n",
    "    BARS_URL = '/v2/aggs/ticker/{}/range/{}/{}/{}/{}?apiKey={}&limit=50000'\r\n",
    "    for symbol in symbols:\r\n",
    "        data = requests.get(f\"{BASE_URL}{BARS_URL.format(symbol, 1, 'day', begin_date, end_date, os.getenv('POLYGON_API_KEY'))}\").json()\r\n",
    "        df = pd.DataFrame(data['results'])\r\n",
    "        df['t'] = pd.to_datetime(df['t'], unit='ms').dt.normalize()\r\n",
    "        df = df.rename(columns={'v': 'volume', 'vw': 'weighted_volume', 'o': 'open', 'c': 'close', 'h': 'high', 'l': 'low', 't': 'date', 'n':'transaction_count'})\r\n",
    "        df['symbol'] = symbol\r\n",
    "        df = df.set_index(['date','symbol'])\r\n",
    "        out = pd.concat([out,df],axis=0)\r\n",
    "        sleep(1)\r\n",
    "    return out.sort_index()\r\n",
    "        \r\n",
    "prices = get_symbols(['MRNA','AZN', 'PFE', 'JNJ'],  '2020-05-15', '2021-09-18')"
   ],
   "outputs": [],
   "metadata": {}
  },
  {
   "cell_type": "markdown",
   "source": [
    "# Features are generated and scaled\r\n",
    "\r\n",
    "* Generate features utilizing certain TA metrics\r\n",
    "* Metrics are derived from aggregated bars and utilized for equations that generate signals"
   ],
   "metadata": {}
  },
  {
   "cell_type": "code",
   "execution_count": 65,
   "source": [
    "features = pd.DataFrame(index=prices.index)\r\n",
    "\r\n",
    "features['lagged_returns'] = prices.groupby(level='symbol').close.pct_change().shift()\r\n",
    "\r\n",
    "features['5_day_returns'] = prices.groupby(level='symbol').close.pct_change(5)\r\n",
    "\r\n",
    "features['volume_change'] = prices.groupby(level='symbol').volume.diff(1) / prices.groupby(level='symbol').shift(1).volume\r\n",
    "\r\n",
    "features['100_day_ma'] = prices.volume/ prices.volume.groupby(level='symbol')\\\r\n",
    ".apply(lambda x: x.rolling(100).mean())-1\r\n",
    "\r\n",
    "features['50_day_ema'] = prices.close/ prices.close.groupby(level='symbol')\\\r\n",
    ".apply(lambda x: x.ewm(span=50).mean())-1\r\n",
    "\r\n",
    "features['z_score'] =prices.groupby(level='symbol').close.apply(lambda x: (x - x.rolling(window=200, min_periods=20).mean())\\\r\n",
    "/ x.rolling(window=200, min_periods=20).std())\r\n",
    "\r\n",
    "features['percentile_transformation'] = prices.groupby(level='symbol').volume.apply(lambda x: x.rolling(200,min_periods=20).apply(lambda x: pd.Series(x).rank(pct=True)[0]))\r\n",
    "\r\n",
    "prices['21-high'] = prices['high'].rolling(21).max()\r\n",
    "prices['21-low'] = prices['low'].rolling(21).mean()\r\n",
    "features['stochastic_k'] = (prices['close'] - prices['21-low']) * 100 / (prices['21-high'] - prices['21-low'])\r\n",
    "features['stochastic_d'] = features['stochastic_k'].rolling(3).mean()\r\n",
    "\r\n",
    "target = prices.groupby(level='symbol').close.pct_change()\r\n",
    "\r\n",
    "features.dropna(inplace=True)"
   ],
   "outputs": [],
   "metadata": {}
  },
  {
   "cell_type": "code",
   "execution_count": 66,
   "source": [
    "features"
   ],
   "outputs": [
    {
     "output_type": "execute_result",
     "data": {
      "text/html": [
       "<div>\n",
       "<style scoped>\n",
       "    .dataframe tbody tr th:only-of-type {\n",
       "        vertical-align: middle;\n",
       "    }\n",
       "\n",
       "    .dataframe tbody tr th {\n",
       "        vertical-align: top;\n",
       "    }\n",
       "\n",
       "    .dataframe thead th {\n",
       "        text-align: right;\n",
       "    }\n",
       "</style>\n",
       "<table border=\"1\" class=\"dataframe\">\n",
       "  <thead>\n",
       "    <tr style=\"text-align: right;\">\n",
       "      <th></th>\n",
       "      <th></th>\n",
       "      <th>lagged_returns</th>\n",
       "      <th>5_day_returns</th>\n",
       "      <th>volume_change</th>\n",
       "      <th>100_day_ma</th>\n",
       "      <th>50_day_ema</th>\n",
       "      <th>z_score</th>\n",
       "      <th>percentile_transformation</th>\n",
       "      <th>stochastic_k</th>\n",
       "      <th>stochastic_d</th>\n",
       "    </tr>\n",
       "    <tr>\n",
       "      <th>date</th>\n",
       "      <th>symbol</th>\n",
       "      <th></th>\n",
       "      <th></th>\n",
       "      <th></th>\n",
       "      <th></th>\n",
       "      <th></th>\n",
       "      <th></th>\n",
       "      <th></th>\n",
       "      <th></th>\n",
       "      <th></th>\n",
       "    </tr>\n",
       "  </thead>\n",
       "  <tbody>\n",
       "    <tr>\n",
       "      <th rowspan=\"4\" valign=\"top\">2020-10-06</th>\n",
       "      <th>AZN</th>\n",
       "      <td>0.010170</td>\n",
       "      <td>-0.025404</td>\n",
       "      <td>-0.448881</td>\n",
       "      <td>-0.414330</td>\n",
       "      <td>-0.025414</td>\n",
       "      <td>-0.696012</td>\n",
       "      <td>0.220000</td>\n",
       "      <td>-29.077555</td>\n",
       "      <td>-28.286153</td>\n",
       "    </tr>\n",
       "    <tr>\n",
       "      <th>JNJ</th>\n",
       "      <td>-0.014315</td>\n",
       "      <td>-0.005440</td>\n",
       "      <td>0.034328</td>\n",
       "      <td>-0.219603</td>\n",
       "      <td>-0.010439</td>\n",
       "      <td>-0.198787</td>\n",
       "      <td>0.960000</td>\n",
       "      <td>95.046268</td>\n",
       "      <td>5.258718</td>\n",
       "    </tr>\n",
       "    <tr>\n",
       "      <th>MRNA</th>\n",
       "      <td>-0.013290</td>\n",
       "      <td>0.007374</td>\n",
       "      <td>0.117732</td>\n",
       "      <td>-0.645779</td>\n",
       "      <td>0.042237</td>\n",
       "      <td>0.456516</td>\n",
       "      <td>0.630000</td>\n",
       "      <td>-6.835434</td>\n",
       "      <td>19.711093</td>\n",
       "    </tr>\n",
       "    <tr>\n",
       "      <th>PFE</th>\n",
       "      <td>-0.012648</td>\n",
       "      <td>0.000000</td>\n",
       "      <td>0.304696</td>\n",
       "      <td>-0.148101</td>\n",
       "      <td>-0.014937</td>\n",
       "      <td>-0.112316</td>\n",
       "      <td>0.510000</td>\n",
       "      <td>-50.909611</td>\n",
       "      <td>12.433741</td>\n",
       "    </tr>\n",
       "    <tr>\n",
       "      <th>2020-10-07</th>\n",
       "      <th>AZN</th>\n",
       "      <td>-0.015782</td>\n",
       "      <td>-0.023175</td>\n",
       "      <td>-0.047694</td>\n",
       "      <td>-0.442054</td>\n",
       "      <td>-0.027567</td>\n",
       "      <td>-0.798444</td>\n",
       "      <td>0.227723</td>\n",
       "      <td>-29.254565</td>\n",
       "      <td>-28.999870</td>\n",
       "    </tr>\n",
       "    <tr>\n",
       "      <th>...</th>\n",
       "      <th>...</th>\n",
       "      <td>...</td>\n",
       "      <td>...</td>\n",
       "      <td>...</td>\n",
       "      <td>...</td>\n",
       "      <td>...</td>\n",
       "      <td>...</td>\n",
       "      <td>...</td>\n",
       "      <td>...</td>\n",
       "      <td>...</td>\n",
       "    </tr>\n",
       "    <tr>\n",
       "      <th>2021-09-16</th>\n",
       "      <th>PFE</th>\n",
       "      <td>0.014248</td>\n",
       "      <td>-0.033891</td>\n",
       "      <td>-0.226805</td>\n",
       "      <td>-0.261271</td>\n",
       "      <td>-0.008201</td>\n",
       "      <td>1.289985</td>\n",
       "      <td>0.955000</td>\n",
       "      <td>-41.125707</td>\n",
       "      <td>15.878206</td>\n",
       "    </tr>\n",
       "    <tr>\n",
       "      <th rowspan=\"4\" valign=\"top\">2021-09-17</th>\n",
       "      <th>AZN</th>\n",
       "      <td>-0.006701</td>\n",
       "      <td>-0.012442</td>\n",
       "      <td>0.366676</td>\n",
       "      <td>-0.192349</td>\n",
       "      <td>-0.034763</td>\n",
       "      <td>0.412929</td>\n",
       "      <td>0.120000</td>\n",
       "      <td>-37.606717</td>\n",
       "      <td>4.204483</td>\n",
       "    </tr>\n",
       "    <tr>\n",
       "      <th>JNJ</th>\n",
       "      <td>-0.018375</td>\n",
       "      <td>-0.013296</td>\n",
       "      <td>1.369079</td>\n",
       "      <td>1.099338</td>\n",
       "      <td>-0.035404</td>\n",
       "      <td>0.007022</td>\n",
       "      <td>0.700000</td>\n",
       "      <td>-2.659764</td>\n",
       "      <td>-27.130729</td>\n",
       "    </tr>\n",
       "    <tr>\n",
       "      <th>MRNA</th>\n",
       "      <td>-0.002845</td>\n",
       "      <td>-0.043015</td>\n",
       "      <td>2.021194</td>\n",
       "      <td>1.028805</td>\n",
       "      <td>0.159211</td>\n",
       "      <td>2.132493</td>\n",
       "      <td>0.990000</td>\n",
       "      <td>87.611084</td>\n",
       "      <td>15.781534</td>\n",
       "    </tr>\n",
       "    <tr>\n",
       "      <th>PFE</th>\n",
       "      <td>-0.024055</td>\n",
       "      <td>-0.037289</td>\n",
       "      <td>1.516066</td>\n",
       "      <td>0.836478</td>\n",
       "      <td>-0.020324</td>\n",
       "      <td>1.134413</td>\n",
       "      <td>0.975000</td>\n",
       "      <td>-42.511018</td>\n",
       "      <td>14.146767</td>\n",
       "    </tr>\n",
       "  </tbody>\n",
       "</table>\n",
       "<p>960 rows × 9 columns</p>\n",
       "</div>"
      ],
      "text/plain": [
       "                   lagged_returns  5_day_returns  volume_change  100_day_ma  \\\n",
       "date       symbol                                                             \n",
       "2020-10-06 AZN           0.010170      -0.025404      -0.448881   -0.414330   \n",
       "           JNJ          -0.014315      -0.005440       0.034328   -0.219603   \n",
       "           MRNA         -0.013290       0.007374       0.117732   -0.645779   \n",
       "           PFE          -0.012648       0.000000       0.304696   -0.148101   \n",
       "2020-10-07 AZN          -0.015782      -0.023175      -0.047694   -0.442054   \n",
       "...                           ...            ...            ...         ...   \n",
       "2021-09-16 PFE           0.014248      -0.033891      -0.226805   -0.261271   \n",
       "2021-09-17 AZN          -0.006701      -0.012442       0.366676   -0.192349   \n",
       "           JNJ          -0.018375      -0.013296       1.369079    1.099338   \n",
       "           MRNA         -0.002845      -0.043015       2.021194    1.028805   \n",
       "           PFE          -0.024055      -0.037289       1.516066    0.836478   \n",
       "\n",
       "                   50_day_ema   z_score  percentile_transformation  \\\n",
       "date       symbol                                                    \n",
       "2020-10-06 AZN      -0.025414 -0.696012                   0.220000   \n",
       "           JNJ      -0.010439 -0.198787                   0.960000   \n",
       "           MRNA      0.042237  0.456516                   0.630000   \n",
       "           PFE      -0.014937 -0.112316                   0.510000   \n",
       "2020-10-07 AZN      -0.027567 -0.798444                   0.227723   \n",
       "...                       ...       ...                        ...   \n",
       "2021-09-16 PFE      -0.008201  1.289985                   0.955000   \n",
       "2021-09-17 AZN      -0.034763  0.412929                   0.120000   \n",
       "           JNJ      -0.035404  0.007022                   0.700000   \n",
       "           MRNA      0.159211  2.132493                   0.990000   \n",
       "           PFE      -0.020324  1.134413                   0.975000   \n",
       "\n",
       "                   stochastic_k  stochastic_d  \n",
       "date       symbol                              \n",
       "2020-10-06 AZN       -29.077555    -28.286153  \n",
       "           JNJ        95.046268      5.258718  \n",
       "           MRNA       -6.835434     19.711093  \n",
       "           PFE       -50.909611     12.433741  \n",
       "2020-10-07 AZN       -29.254565    -28.999870  \n",
       "...                         ...           ...  \n",
       "2021-09-16 PFE       -41.125707     15.878206  \n",
       "2021-09-17 AZN       -37.606717      4.204483  \n",
       "           JNJ        -2.659764    -27.130729  \n",
       "           MRNA       87.611084     15.781534  \n",
       "           PFE       -42.511018     14.146767  \n",
       "\n",
       "[960 rows x 9 columns]"
      ]
     },
     "metadata": {},
     "execution_count": 66
    }
   ],
   "metadata": {}
  },
  {
   "cell_type": "markdown",
   "source": [
    "# Scale values using standard scaler\r\n",
    "\r\n",
    "* "
   ],
   "metadata": {}
  },
  {
   "cell_type": "code",
   "execution_count": 67,
   "source": [
    "std_scaler = StandardScaler()\r\n",
    "features_df = pd.DataFrame(std_scaler.fit_transform(features.dropna()), index=features.dropna().index)\r\n",
    "features_df.columns = features.dropna().columns\r\n",
    "\r\n",
    "target_temp = target.to_frame()\r\n",
    "target_df = pd.DataFrame(std_scaler.fit_transform(target_temp.dropna()), index=target_temp.dropna().index)\r\n",
    "target_df.columns = target_temp.columns"
   ],
   "outputs": [],
   "metadata": {}
  },
  {
   "cell_type": "code",
   "execution_count": 68,
   "source": [
    "corr = features_df.corrwith(target)\r\n",
    "corr.sort_values().plot.barh(color = 'purple',title = 'Correlation of Features')"
   ],
   "outputs": [
    {
     "output_type": "execute_result",
     "data": {
      "text/plain": [
       "<matplotlib.axes._subplots.AxesSubplot at 0x2934522cc08>"
      ]
     },
     "metadata": {},
     "execution_count": 68
    },
    {
     "output_type": "display_data",
     "data": {
      "image/png": "[encoded data removed]",
      "text/plain": [
       "<Figure size 432x288 with 1 Axes>"
      ]
     },
     "metadata": {
      "needs_background": "light"
     }
    }
   ],
   "metadata": {}
  },
  {
   "cell_type": "code",
   "execution_count": 69,
   "source": [
    "corr_matrix = features.corr()\r\n",
    "corr_array = np.array(corr_matrix)\r\n",
    "\r\n",
    "linkage = hierarchy.linkage(distance.pdist(corr_array), \\\r\n",
    "                            method='average')\r\n",
    "\r\n",
    "g = sns.clustermap(corr_matrix,row_linkage=linkage,col_linkage=linkage,\\\r\n",
    "                   row_cluster=True,col_cluster=True,figsize=(10,10),cmap='Blues')\r\n",
    "plt.setp(g.ax_heatmap.yaxis.get_majorticklabels(), rotation=0)\r\n",
    "plt.show()\r\n",
    "\r\n",
    "label_order = corr_matrix.iloc[:,g.dendrogram_row.reordered_ind].columns"
   ],
   "outputs": [
    {
     "output_type": "display_data",
     "data": {
      "image/png": "[encoded data removed]",
      "text/plain": [
       "<Figure size 720x720 with 4 Axes>"
      ]
     },
     "metadata": {
      "needs_background": "light"
     }
    }
   ],
   "metadata": {}
  },
  {
   "cell_type": "code",
   "execution_count": 70,
   "source": [
    "features_df.to_csv(Path('../Data/financial_features.csv'))\r\n",
    "target_df.to_csv(Path('../Data/target.csv'))"
   ],
   "outputs": [],
   "metadata": {}
  },
  {
   "cell_type": "code",
   "execution_count": null,
   "source": [],
   "outputs": [],
   "metadata": {}
  }
 ],
 "metadata": {
  "orig_nbformat": 4,
  "language_info": {
   "name": "python",
   "version": "3.7.11",
   "mimetype": "text/x-python",
   "codemirror_mode": {
    "name": "ipython",
    "version": 3
   },
   "pygments_lexer": "ipython3",
   "nbconvert_exporter": "python",
   "file_extension": ".py"
  },
  "kernelspec": {
   "name": "python3",
   "display_name": "Python 3.7.11 64-bit ('machineLearning': conda)"
  },
  "interpreter": {
   "hash": "15d6f6cf85598009a90599770be6a6b7799a460854b6a0a49d07b2b60db6e76d"
  }
 },
 "nbformat": 4,
 "nbformat_minor": 2
}